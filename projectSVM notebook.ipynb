{
 "cells": [
  {
   "cell_type": "markdown",
   "metadata": {},
   "source": [
    "# If I am interested in Education, Environment and Sciences, which French newscast should I watch ?"
   ]
  },
  {
   "cell_type": "code",
   "execution_count": 12,
   "metadata": {},
   "outputs": [],
   "source": [
    "import pandas as pd\n",
    "from matplotlib import pyplot as plt"
   ]
  },
  {
   "cell_type": "code",
   "execution_count": 13,
   "metadata": {},
   "outputs": [],
   "source": [
    "df = pd.read_csv('datas/ina-barometre-jt-tv-donnees-mensuelles-2005-2018-nombre-de-sujets.csv', sep=',', skiprows=1, parse_dates=True, squeeze=True)\n",
    "df2 = pd.read_csv('datas/ina-barometre-jt-tv-donnees-mensuelles-2005-2018-durees.csv', sep=';', skiprows=1, parse_dates=True, squeeze=True)"
   ]
  },
  {
   "cell_type": "code",
   "execution_count": 14,
   "metadata": {},
   "outputs": [
    {
     "data": {
      "text/plain": [
       "(2268, 9)"
      ]
     },
     "metadata": {},
     "output_type": "display_data"
    },
    {
     "data": {
      "text/plain": [
       "(2268, 9)"
      ]
     },
     "metadata": {},
     "output_type": "display_data"
    }
   ],
   "source": [
    "display(df.shape)\n",
    "display(df2.shape)"
   ]
  },
  {
   "cell_type": "markdown",
   "metadata": {},
   "source": [
    "### Cleaning header"
   ]
  },
  {
   "cell_type": "code",
   "execution_count": 15,
   "metadata": {},
   "outputs": [],
   "source": [
    "df.columns = ['Mounth', 'Category', 'TF1','France 2', 'France 3', 'Canal +', 'Arte', \"M6\", \"Totaux\"]\n",
    "df2.columns = ['Mounth', 'Category', 'TF1','France 2', 'France 3', 'Canal +', 'Arte', \"M6\", \"Totaux\"]"
   ]
  },
  {
   "cell_type": "code",
   "execution_count": 16,
   "metadata": {},
   "outputs": [
    {
     "data": {
      "text/html": [
       "<div>\n",
       "<style scoped>\n",
       "    .dataframe tbody tr th:only-of-type {\n",
       "        vertical-align: middle;\n",
       "    }\n",
       "\n",
       "    .dataframe tbody tr th {\n",
       "        vertical-align: top;\n",
       "    }\n",
       "\n",
       "    .dataframe thead th {\n",
       "        text-align: right;\n",
       "    }\n",
       "</style>\n",
       "<table border=\"1\" class=\"dataframe\">\n",
       "  <thead>\n",
       "    <tr style=\"text-align: right;\">\n",
       "      <th></th>\n",
       "      <th>Mounth</th>\n",
       "      <th>Category</th>\n",
       "      <th>TF1</th>\n",
       "      <th>France 2</th>\n",
       "      <th>France 3</th>\n",
       "      <th>Canal +</th>\n",
       "      <th>Arte</th>\n",
       "      <th>M6</th>\n",
       "      <th>Totaux</th>\n",
       "    </tr>\n",
       "  </thead>\n",
       "  <tbody>\n",
       "    <tr>\n",
       "      <th>0</th>\n",
       "      <td>janv.-05</td>\n",
       "      <td>Catastrophes</td>\n",
       "      <td>214</td>\n",
       "      <td>191</td>\n",
       "      <td>88</td>\n",
       "      <td>18</td>\n",
       "      <td>40.0</td>\n",
       "      <td>49</td>\n",
       "      <td>600</td>\n",
       "    </tr>\n",
       "    <tr>\n",
       "      <th>1</th>\n",
       "      <td>janv.-05</td>\n",
       "      <td>Culture-loisirs</td>\n",
       "      <td>27</td>\n",
       "      <td>42</td>\n",
       "      <td>35</td>\n",
       "      <td>4</td>\n",
       "      <td>0.0</td>\n",
       "      <td>23</td>\n",
       "      <td>131</td>\n",
       "    </tr>\n",
       "    <tr>\n",
       "      <th>2</th>\n",
       "      <td>janv.-05</td>\n",
       "      <td>Economie</td>\n",
       "      <td>35</td>\n",
       "      <td>18</td>\n",
       "      <td>10</td>\n",
       "      <td>1</td>\n",
       "      <td>8.0</td>\n",
       "      <td>11</td>\n",
       "      <td>83</td>\n",
       "    </tr>\n",
       "    <tr>\n",
       "      <th>3</th>\n",
       "      <td>janv.-05</td>\n",
       "      <td>Education</td>\n",
       "      <td>14</td>\n",
       "      <td>12</td>\n",
       "      <td>4</td>\n",
       "      <td>3</td>\n",
       "      <td>3.0</td>\n",
       "      <td>8</td>\n",
       "      <td>44</td>\n",
       "    </tr>\n",
       "    <tr>\n",
       "      <th>4</th>\n",
       "      <td>janv.-05</td>\n",
       "      <td>Environnement</td>\n",
       "      <td>31</td>\n",
       "      <td>25</td>\n",
       "      <td>15</td>\n",
       "      <td>1</td>\n",
       "      <td>3.0</td>\n",
       "      <td>10</td>\n",
       "      <td>85</td>\n",
       "    </tr>\n",
       "  </tbody>\n",
       "</table>\n",
       "</div>"
      ],
      "text/plain": [
       "     Mounth         Category  TF1  France 2  France 3  Canal +  Arte  M6  \\\n",
       "0  janv.-05     Catastrophes  214       191        88       18  40.0  49   \n",
       "1  janv.-05  Culture-loisirs   27        42        35        4   0.0  23   \n",
       "2  janv.-05         Economie   35        18        10        1   8.0  11   \n",
       "3  janv.-05        Education   14        12         4        3   3.0   8   \n",
       "4  janv.-05    Environnement   31        25        15        1   3.0  10   \n",
       "\n",
       "   Totaux  \n",
       "0     600  \n",
       "1     131  \n",
       "2      83  \n",
       "3      44  \n",
       "4      85  "
      ]
     },
     "metadata": {},
     "output_type": "display_data"
    },
    {
     "data": {
      "text/html": [
       "<div>\n",
       "<style scoped>\n",
       "    .dataframe tbody tr th:only-of-type {\n",
       "        vertical-align: middle;\n",
       "    }\n",
       "\n",
       "    .dataframe tbody tr th {\n",
       "        vertical-align: top;\n",
       "    }\n",
       "\n",
       "    .dataframe thead th {\n",
       "        text-align: right;\n",
       "    }\n",
       "</style>\n",
       "<table border=\"1\" class=\"dataframe\">\n",
       "  <thead>\n",
       "    <tr style=\"text-align: right;\">\n",
       "      <th></th>\n",
       "      <th>Mounth</th>\n",
       "      <th>Category</th>\n",
       "      <th>TF1</th>\n",
       "      <th>France 2</th>\n",
       "      <th>France 3</th>\n",
       "      <th>Canal +</th>\n",
       "      <th>Arte</th>\n",
       "      <th>M6</th>\n",
       "      <th>Totaux</th>\n",
       "    </tr>\n",
       "  </thead>\n",
       "  <tbody>\n",
       "    <tr>\n",
       "      <th>0</th>\n",
       "      <td>janv.-05</td>\n",
       "      <td>Catastrophes</td>\n",
       "      <td>05:39:50</td>\n",
       "      <td>05:13:56</td>\n",
       "      <td>02:35:01</td>\n",
       "      <td>00:22:41</td>\n",
       "      <td>00:51:51</td>\n",
       "      <td>01:07:28</td>\n",
       "      <td>15:50:47</td>\n",
       "    </tr>\n",
       "    <tr>\n",
       "      <th>1</th>\n",
       "      <td>janv.-05</td>\n",
       "      <td>Culture-loisirs</td>\n",
       "      <td>00:50:22</td>\n",
       "      <td>01:24:04</td>\n",
       "      <td>01:12:27</td>\n",
       "      <td>00:04:12</td>\n",
       "      <td>00:00:00</td>\n",
       "      <td>00:27:44</td>\n",
       "      <td>03:58:49</td>\n",
       "    </tr>\n",
       "    <tr>\n",
       "      <th>2</th>\n",
       "      <td>janv.-05</td>\n",
       "      <td>Economie</td>\n",
       "      <td>00:52:25</td>\n",
       "      <td>00:31:12</td>\n",
       "      <td>00:16:39</td>\n",
       "      <td>00:01:59</td>\n",
       "      <td>00:07:59</td>\n",
       "      <td>00:11:04</td>\n",
       "      <td>02:01:18</td>\n",
       "    </tr>\n",
       "    <tr>\n",
       "      <th>3</th>\n",
       "      <td>janv.-05</td>\n",
       "      <td>Education</td>\n",
       "      <td>00:22:00</td>\n",
       "      <td>00:20:42</td>\n",
       "      <td>00:09:46</td>\n",
       "      <td>00:02:18</td>\n",
       "      <td>00:04:35</td>\n",
       "      <td>00:13:10</td>\n",
       "      <td>01:12:31</td>\n",
       "    </tr>\n",
       "    <tr>\n",
       "      <th>4</th>\n",
       "      <td>janv.-05</td>\n",
       "      <td>Environnement</td>\n",
       "      <td>00:45:00</td>\n",
       "      <td>00:32:55</td>\n",
       "      <td>00:23:09</td>\n",
       "      <td>00:00:41</td>\n",
       "      <td>00:02:16</td>\n",
       "      <td>00:09:46</td>\n",
       "      <td>01:53:47</td>\n",
       "    </tr>\n",
       "  </tbody>\n",
       "</table>\n",
       "</div>"
      ],
      "text/plain": [
       "     Mounth         Category       TF1  France 2  France 3   Canal +  \\\n",
       "0  janv.-05     Catastrophes  05:39:50  05:13:56  02:35:01  00:22:41   \n",
       "1  janv.-05  Culture-loisirs  00:50:22  01:24:04  01:12:27  00:04:12   \n",
       "2  janv.-05         Economie  00:52:25  00:31:12  00:16:39  00:01:59   \n",
       "3  janv.-05        Education  00:22:00  00:20:42  00:09:46  00:02:18   \n",
       "4  janv.-05    Environnement  00:45:00  00:32:55  00:23:09  00:00:41   \n",
       "\n",
       "       Arte        M6    Totaux  \n",
       "0  00:51:51  01:07:28  15:50:47  \n",
       "1  00:00:00  00:27:44  03:58:49  \n",
       "2  00:07:59  00:11:04  02:01:18  \n",
       "3  00:04:35  00:13:10  01:12:31  \n",
       "4  00:02:16  00:09:46  01:53:47  "
      ]
     },
     "metadata": {},
     "output_type": "display_data"
    }
   ],
   "source": [
    "display(df.head())\n",
    "display(df2.head())"
   ]
  },
  {
   "cell_type": "markdown",
   "metadata": {},
   "source": [
    "## Explore datas"
   ]
  },
  {
   "cell_type": "markdown",
   "metadata": {},
   "source": [
    "### How many catagory do we have ?"
   ]
  },
  {
   "cell_type": "code",
   "execution_count": 17,
   "metadata": {},
   "outputs": [
    {
     "data": {
      "text/plain": [
       "array(['Catastrophes', 'Culture-loisirs', 'Economie', 'Education',\n",
       "       'Environnement', 'Faits divers', 'Histoire-hommages',\n",
       "       'International', 'Justice', 'Politique France', 'Santé',\n",
       "       'Sciences et techniques', 'Société', 'Sport'], dtype=object)"
      ]
     },
     "metadata": {},
     "output_type": "display_data"
    }
   ],
   "source": [
    "categories = df['Category'].unique()\n",
    "display(categories)"
   ]
  },
  {
   "cell_type": "markdown",
   "metadata": {},
   "source": [
    "## Keep only  'Education', 'Environnement' and  'Sciences et techniques' is the 2 csv file, in order to have just times and duration of each subject."
   ]
  },
  {
   "cell_type": "code",
   "execution_count": null,
   "metadata": {},
   "outputs": [],
   "source": [
    "df0 = df[df.Category == 'Education']\n",
    "display(df0.shape)\n",
    "\n",
    "df1 = df2[df2.Category == 'Education']\n",
    "display(df1.shape)"
   ]
  },
  {
   "cell_type": "markdown",
   "metadata": {},
   "source": [
    "### create the new dataframe"
   ]
  },
  {
   "cell_type": "code",
   "execution_count": null,
   "metadata": {},
   "outputs": [],
   "source": []
  },
  {
   "cell_type": "markdown",
   "metadata": {},
   "source": [
    "## Datavizualation"
   ]
  },
  {
   "cell_type": "code",
   "execution_count": 8,
   "metadata": {},
   "outputs": [
    {
     "data": {
      "text/plain": [
       "<matplotlib.collections.PathCollection at 0x11124a2d0>"
      ]
     },
     "execution_count": 8,
     "metadata": {},
     "output_type": "execute_result"
    },
    {
     "data": {
      "image/png": "[encoded data removed]",
      "text/plain": [
       "<Figure size 432x288 with 1 Axes>"
      ]
     },
     "metadata": {
      "needs_background": "light"
     },
     "output_type": "display_data"
    }
   ],
   "source": [
    "plt.xlabel(\"Category\")\n",
    "plt.ylabel('Times on the TV')\n",
    "plt.scatter(df0['Mounth'], df0['TF1'], color=\"green\", marker=\"+\")\n",
    "plt.scatter(df0['Mounth'], df0['France 2'], color=\"red\", marker=\"o\")\n",
    "plt.scatter(df0['Mounth'], df0['France 3'], color=\"yellow\", marker=\".\")\n",
    "plt.scatter(df0['Mounth'], df0['Arte'], color=\"blue\", marker=\"o\")\n",
    "plt.scatter(df0['Mounth'], df0['M6'], color=\"#C0C0C0\", marker=\"o\")\n",
    "# plt.scatter(df['Category'], df['France 2'], color=\"red\", marker=\"o\")"
   ]
  },
  {
   "cell_type": "markdown",
   "metadata": {},
   "source": [
    "# Same question if I’m mostly interested in Economy but I’d also like to know a bit about Sports."
   ]
  },
  {
   "cell_type": "code",
   "execution_count": null,
   "metadata": {},
   "outputs": [],
   "source": []
  }
 ],
 "metadata": {
  "kernelspec": {
   "display_name": "Python 3",
   "language": "python",
   "name": "python3"
  },
  "language_info": {
   "codemirror_mode": {
    "name": "ipython",
    "version": 3
   },
   "file_extension": ".py",
   "mimetype": "text/x-python",
   "name": "python",
   "nbconvert_exporter": "python",
   "pygments_lexer": "ipython3",
   "version": "3.7.4"
  }
 },
 "nbformat": 4,
 "nbformat_minor": 2
}
