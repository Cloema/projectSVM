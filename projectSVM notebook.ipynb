{
 "cells": [
  {
   "cell_type": "markdown",
   "metadata": {},
   "source": [
    "# If I am interested in Education, Environment and Sciences, which French newscast should I watch ?"
   ]
  },
  {
   "cell_type": "code",
   "execution_count": 33,
   "metadata": {},
   "outputs": [],
   "source": [
    "import pandas as pd\n",
    "from matplotlib import pyplot as plt"
   ]
  },
  {
   "cell_type": "code",
   "execution_count": 36,
   "metadata": {},
   "outputs": [],
   "source": [
    "df = pd.read_csv('datas/ina-barometre-jt-tv-donnees-mensuelles-2005-2018-nombre-de-sujets.csv', sep=',', skiprows=1, parse_dates=True, squeeze=True)\n",
    "df2 = pd.read_csv('datas/ina-barometre-jt-tv-donnees-mensuelles-2005-2018-durees.csv', sep=';', skiprows=1, parse_dates=True, squeeze=True)"
   ]
  },
  {
   "cell_type": "code",
   "execution_count": 43,
   "metadata": {},
   "outputs": [
    {
     "data": {
      "text/plain": [
       "(2268, 9)"
      ]
     },
     "metadata": {},
     "output_type": "display_data"
    },
    {
     "data": {
      "text/plain": [
       "(2268, 9)"
      ]
     },
     "metadata": {},
     "output_type": "display_data"
    }
   ],
   "source": [
    "display(df.shape)\n",
    "display(df2.shape)"
   ]
  },
  {
   "cell_type": "markdown",
   "metadata": {},
   "source": [
    "### Cleaning header"
   ]
  },
  {
   "cell_type": "code",
   "execution_count": 38,
   "metadata": {},
   "outputs": [],
   "source": [
    "df.columns = ['Mounth', 'Category', 'TF1','France 2', 'France 3', 'Canal +', 'Arte', \"M6\", \"Totaux\"]\n",
    "df2.columns = ['Mounth', 'Category', 'TF1','France 2', 'France 3', 'Canal +', 'Arte', \"M6\", \"Totaux\"]"
   ]
  },
  {
   "cell_type": "code",
   "execution_count": 39,
   "metadata": {},
   "outputs": [
    {
     "data": {
      "text/html": [
       "<div>\n",
       "<style scoped>\n",
       "    .dataframe tbody tr th:only-of-type {\n",
       "        vertical-align: middle;\n",
       "    }\n",
       "\n",
       "    .dataframe tbody tr th {\n",
       "        vertical-align: top;\n",
       "    }\n",
       "\n",
       "    .dataframe thead th {\n",
       "        text-align: right;\n",
       "    }\n",
       "</style>\n",
       "<table border=\"1\" class=\"dataframe\">\n",
       "  <thead>\n",
       "    <tr style=\"text-align: right;\">\n",
       "      <th></th>\n",
       "      <th>Mounth</th>\n",
       "      <th>Category</th>\n",
       "      <th>TF1</th>\n",
       "      <th>France 2</th>\n",
       "      <th>France 3</th>\n",
       "      <th>Canal +</th>\n",
       "      <th>Arte</th>\n",
       "      <th>M6</th>\n",
       "      <th>Totaux</th>\n",
       "    </tr>\n",
       "  </thead>\n",
       "  <tbody>\n",
       "    <tr>\n",
       "      <th>0</th>\n",
       "      <td>janv.-05</td>\n",
       "      <td>Catastrophes</td>\n",
       "      <td>214</td>\n",
       "      <td>191</td>\n",
       "      <td>88</td>\n",
       "      <td>18</td>\n",
       "      <td>40.0</td>\n",
       "      <td>49</td>\n",
       "      <td>600</td>\n",
       "    </tr>\n",
       "    <tr>\n",
       "      <th>1</th>\n",
       "      <td>janv.-05</td>\n",
       "      <td>Culture-loisirs</td>\n",
       "      <td>27</td>\n",
       "      <td>42</td>\n",
       "      <td>35</td>\n",
       "      <td>4</td>\n",
       "      <td>0.0</td>\n",
       "      <td>23</td>\n",
       "      <td>131</td>\n",
       "    </tr>\n",
       "    <tr>\n",
       "      <th>2</th>\n",
       "      <td>janv.-05</td>\n",
       "      <td>Economie</td>\n",
       "      <td>35</td>\n",
       "      <td>18</td>\n",
       "      <td>10</td>\n",
       "      <td>1</td>\n",
       "      <td>8.0</td>\n",
       "      <td>11</td>\n",
       "      <td>83</td>\n",
       "    </tr>\n",
       "    <tr>\n",
       "      <th>3</th>\n",
       "      <td>janv.-05</td>\n",
       "      <td>Education</td>\n",
       "      <td>14</td>\n",
       "      <td>12</td>\n",
       "      <td>4</td>\n",
       "      <td>3</td>\n",
       "      <td>3.0</td>\n",
       "      <td>8</td>\n",
       "      <td>44</td>\n",
       "    </tr>\n",
       "    <tr>\n",
       "      <th>4</th>\n",
       "      <td>janv.-05</td>\n",
       "      <td>Environnement</td>\n",
       "      <td>31</td>\n",
       "      <td>25</td>\n",
       "      <td>15</td>\n",
       "      <td>1</td>\n",
       "      <td>3.0</td>\n",
       "      <td>10</td>\n",
       "      <td>85</td>\n",
       "    </tr>\n",
       "  </tbody>\n",
       "</table>\n",
       "</div>"
      ],
      "text/plain": [
       "     Mounth         Category  TF1  France 2  France 3  Canal +  Arte  M6  \\\n",
       "0  janv.-05     Catastrophes  214       191        88       18  40.0  49   \n",
       "1  janv.-05  Culture-loisirs   27        42        35        4   0.0  23   \n",
       "2  janv.-05         Economie   35        18        10        1   8.0  11   \n",
       "3  janv.-05        Education   14        12         4        3   3.0   8   \n",
       "4  janv.-05    Environnement   31        25        15        1   3.0  10   \n",
       "\n",
       "   Totaux  \n",
       "0     600  \n",
       "1     131  \n",
       "2      83  \n",
       "3      44  \n",
       "4      85  "
      ]
     },
     "metadata": {},
     "output_type": "display_data"
    },
    {
     "data": {
      "text/html": [
       "<div>\n",
       "<style scoped>\n",
       "    .dataframe tbody tr th:only-of-type {\n",
       "        vertical-align: middle;\n",
       "    }\n",
       "\n",
       "    .dataframe tbody tr th {\n",
       "        vertical-align: top;\n",
       "    }\n",
       "\n",
       "    .dataframe thead th {\n",
       "        text-align: right;\n",
       "    }\n",
       "</style>\n",
       "<table border=\"1\" class=\"dataframe\">\n",
       "  <thead>\n",
       "    <tr style=\"text-align: right;\">\n",
       "      <th></th>\n",
       "      <th>Mounth</th>\n",
       "      <th>Category</th>\n",
       "      <th>TF1</th>\n",
       "      <th>France 2</th>\n",
       "      <th>France 3</th>\n",
       "      <th>Canal +</th>\n",
       "      <th>Arte</th>\n",
       "      <th>M6</th>\n",
       "      <th>Totaux</th>\n",
       "    </tr>\n",
       "  </thead>\n",
       "  <tbody>\n",
       "    <tr>\n",
       "      <th>0</th>\n",
       "      <td>janv.-05</td>\n",
       "      <td>Catastrophes</td>\n",
       "      <td>05:39:50</td>\n",
       "      <td>05:13:56</td>\n",
       "      <td>02:35:01</td>\n",
       "      <td>00:22:41</td>\n",
       "      <td>00:51:51</td>\n",
       "      <td>01:07:28</td>\n",
       "      <td>15:50:47</td>\n",
       "    </tr>\n",
       "    <tr>\n",
       "      <th>1</th>\n",
       "      <td>janv.-05</td>\n",
       "      <td>Culture-loisirs</td>\n",
       "      <td>00:50:22</td>\n",
       "      <td>01:24:04</td>\n",
       "      <td>01:12:27</td>\n",
       "      <td>00:04:12</td>\n",
       "      <td>00:00:00</td>\n",
       "      <td>00:27:44</td>\n",
       "      <td>03:58:49</td>\n",
       "    </tr>\n",
       "    <tr>\n",
       "      <th>2</th>\n",
       "      <td>janv.-05</td>\n",
       "      <td>Economie</td>\n",
       "      <td>00:52:25</td>\n",
       "      <td>00:31:12</td>\n",
       "      <td>00:16:39</td>\n",
       "      <td>00:01:59</td>\n",
       "      <td>00:07:59</td>\n",
       "      <td>00:11:04</td>\n",
       "      <td>02:01:18</td>\n",
       "    </tr>\n",
       "    <tr>\n",
       "      <th>3</th>\n",
       "      <td>janv.-05</td>\n",
       "      <td>Education</td>\n",
       "      <td>00:22:00</td>\n",
       "      <td>00:20:42</td>\n",
       "      <td>00:09:46</td>\n",
       "      <td>00:02:18</td>\n",
       "      <td>00:04:35</td>\n",
       "      <td>00:13:10</td>\n",
       "      <td>01:12:31</td>\n",
       "    </tr>\n",
       "    <tr>\n",
       "      <th>4</th>\n",
       "      <td>janv.-05</td>\n",
       "      <td>Environnement</td>\n",
       "      <td>00:45:00</td>\n",
       "      <td>00:32:55</td>\n",
       "      <td>00:23:09</td>\n",
       "      <td>00:00:41</td>\n",
       "      <td>00:02:16</td>\n",
       "      <td>00:09:46</td>\n",
       "      <td>01:53:47</td>\n",
       "    </tr>\n",
       "  </tbody>\n",
       "</table>\n",
       "</div>"
      ],
      "text/plain": [
       "     Mounth         Category       TF1  France 2  France 3   Canal +  \\\n",
       "0  janv.-05     Catastrophes  05:39:50  05:13:56  02:35:01  00:22:41   \n",
       "1  janv.-05  Culture-loisirs  00:50:22  01:24:04  01:12:27  00:04:12   \n",
       "2  janv.-05         Economie  00:52:25  00:31:12  00:16:39  00:01:59   \n",
       "3  janv.-05        Education  00:22:00  00:20:42  00:09:46  00:02:18   \n",
       "4  janv.-05    Environnement  00:45:00  00:32:55  00:23:09  00:00:41   \n",
       "\n",
       "       Arte        M6    Totaux  \n",
       "0  00:51:51  01:07:28  15:50:47  \n",
       "1  00:00:00  00:27:44  03:58:49  \n",
       "2  00:07:59  00:11:04  02:01:18  \n",
       "3  00:04:35  00:13:10  01:12:31  \n",
       "4  00:02:16  00:09:46  01:53:47  "
      ]
     },
     "metadata": {},
     "output_type": "display_data"
    }
   ],
   "source": [
    "display(df.head())\n",
    "display(df2.head())"
   ]
  },
  {
   "cell_type": "markdown",
   "metadata": {},
   "source": [
    "## Explore datas"
   ]
  },
  {
   "cell_type": "markdown",
   "metadata": {},
   "source": [
    "### How many catagory do we have ?"
   ]
  },
  {
   "cell_type": "code",
   "execution_count": 25,
   "metadata": {},
   "outputs": [
    {
     "data": {
      "text/plain": [
       "array(['Catastrophes', 'Culture-loisirs', 'Economie', 'Education',\n",
       "       'Environnement', 'Faits divers', 'Histoire-hommages',\n",
       "       'International', 'Justice', 'Politique France', 'Santé',\n",
       "       'Sciences et techniques', 'Société', 'Sport'], dtype=object)"
      ]
     },
     "metadata": {},
     "output_type": "display_data"
    }
   ],
   "source": [
    "categories = df['Category'].unique()\n",
    "display(categories)"
   ]
  },
  {
   "cell_type": "markdown",
   "metadata": {},
   "source": [
    "## Keep only  'Education', 'Environnement' and  'Sciences et techniques'"
   ]
  },
  {
   "cell_type": "code",
   "execution_count": 44,
   "metadata": {},
   "outputs": [
    {
     "data": {
      "text/html": [
       "<div>\n",
       "<style scoped>\n",
       "    .dataframe tbody tr th:only-of-type {\n",
       "        vertical-align: middle;\n",
       "    }\n",
       "\n",
       "    .dataframe tbody tr th {\n",
       "        vertical-align: top;\n",
       "    }\n",
       "\n",
       "    .dataframe thead th {\n",
       "        text-align: right;\n",
       "    }\n",
       "</style>\n",
       "<table border=\"1\" class=\"dataframe\">\n",
       "  <thead>\n",
       "    <tr style=\"text-align: right;\">\n",
       "      <th></th>\n",
       "      <th>Mounth</th>\n",
       "      <th>Category</th>\n",
       "      <th>TF1</th>\n",
       "      <th>France 2</th>\n",
       "      <th>France 3</th>\n",
       "      <th>Canal +</th>\n",
       "      <th>Arte</th>\n",
       "      <th>M6</th>\n",
       "      <th>Totaux</th>\n",
       "    </tr>\n",
       "  </thead>\n",
       "  <tbody>\n",
       "    <tr>\n",
       "      <th>3</th>\n",
       "      <td>janv.-05</td>\n",
       "      <td>Education</td>\n",
       "      <td>14</td>\n",
       "      <td>12</td>\n",
       "      <td>4</td>\n",
       "      <td>3</td>\n",
       "      <td>3.0</td>\n",
       "      <td>8</td>\n",
       "      <td>44</td>\n",
       "    </tr>\n",
       "    <tr>\n",
       "      <th>17</th>\n",
       "      <td>févr.-05</td>\n",
       "      <td>Education</td>\n",
       "      <td>27</td>\n",
       "      <td>31</td>\n",
       "      <td>22</td>\n",
       "      <td>7</td>\n",
       "      <td>7.0</td>\n",
       "      <td>10</td>\n",
       "      <td>104</td>\n",
       "    </tr>\n",
       "    <tr>\n",
       "      <th>31</th>\n",
       "      <td>mars-05</td>\n",
       "      <td>Education</td>\n",
       "      <td>33</td>\n",
       "      <td>24</td>\n",
       "      <td>15</td>\n",
       "      <td>3</td>\n",
       "      <td>4.0</td>\n",
       "      <td>18</td>\n",
       "      <td>97</td>\n",
       "    </tr>\n",
       "    <tr>\n",
       "      <th>45</th>\n",
       "      <td>avr.-05</td>\n",
       "      <td>Education</td>\n",
       "      <td>12</td>\n",
       "      <td>13</td>\n",
       "      <td>7</td>\n",
       "      <td>2</td>\n",
       "      <td>2.0</td>\n",
       "      <td>7</td>\n",
       "      <td>43</td>\n",
       "    </tr>\n",
       "    <tr>\n",
       "      <th>59</th>\n",
       "      <td>mai-05</td>\n",
       "      <td>Education</td>\n",
       "      <td>24</td>\n",
       "      <td>9</td>\n",
       "      <td>7</td>\n",
       "      <td>1</td>\n",
       "      <td>4.0</td>\n",
       "      <td>6</td>\n",
       "      <td>51</td>\n",
       "    </tr>\n",
       "    <tr>\n",
       "      <th>...</th>\n",
       "      <td>...</td>\n",
       "      <td>...</td>\n",
       "      <td>...</td>\n",
       "      <td>...</td>\n",
       "      <td>...</td>\n",
       "      <td>...</td>\n",
       "      <td>...</td>\n",
       "      <td>...</td>\n",
       "      <td>...</td>\n",
       "    </tr>\n",
       "    <tr>\n",
       "      <th>2201</th>\n",
       "      <td>févr.-18</td>\n",
       "      <td>Education</td>\n",
       "      <td>14</td>\n",
       "      <td>8</td>\n",
       "      <td>2</td>\n",
       "      <td>1</td>\n",
       "      <td>1.0</td>\n",
       "      <td>10</td>\n",
       "      <td>36</td>\n",
       "    </tr>\n",
       "    <tr>\n",
       "      <th>2215</th>\n",
       "      <td>mars-18</td>\n",
       "      <td>Education</td>\n",
       "      <td>12</td>\n",
       "      <td>9</td>\n",
       "      <td>9</td>\n",
       "      <td>5</td>\n",
       "      <td>0.0</td>\n",
       "      <td>12</td>\n",
       "      <td>47</td>\n",
       "    </tr>\n",
       "    <tr>\n",
       "      <th>2229</th>\n",
       "      <td>avr.-18</td>\n",
       "      <td>Education</td>\n",
       "      <td>23</td>\n",
       "      <td>17</td>\n",
       "      <td>11</td>\n",
       "      <td>4</td>\n",
       "      <td>6.0</td>\n",
       "      <td>18</td>\n",
       "      <td>79</td>\n",
       "    </tr>\n",
       "    <tr>\n",
       "      <th>2243</th>\n",
       "      <td>mai-18</td>\n",
       "      <td>Education</td>\n",
       "      <td>23</td>\n",
       "      <td>18</td>\n",
       "      <td>8</td>\n",
       "      <td>6</td>\n",
       "      <td>4.0</td>\n",
       "      <td>10</td>\n",
       "      <td>69</td>\n",
       "    </tr>\n",
       "    <tr>\n",
       "      <th>2257</th>\n",
       "      <td>juin-18</td>\n",
       "      <td>Education</td>\n",
       "      <td>12</td>\n",
       "      <td>9</td>\n",
       "      <td>8</td>\n",
       "      <td>3</td>\n",
       "      <td>3.0</td>\n",
       "      <td>16</td>\n",
       "      <td>51</td>\n",
       "    </tr>\n",
       "  </tbody>\n",
       "</table>\n",
       "<p>162 rows × 9 columns</p>\n",
       "</div>"
      ],
      "text/plain": [
       "        Mounth   Category  TF1  France 2  France 3  Canal +  Arte  M6  Totaux\n",
       "3     janv.-05  Education   14        12         4        3   3.0   8      44\n",
       "17    févr.-05  Education   27        31        22        7   7.0  10     104\n",
       "31     mars-05  Education   33        24        15        3   4.0  18      97\n",
       "45     avr.-05  Education   12        13         7        2   2.0   7      43\n",
       "59      mai-05  Education   24         9         7        1   4.0   6      51\n",
       "...        ...        ...  ...       ...       ...      ...   ...  ..     ...\n",
       "2201  févr.-18  Education   14         8         2        1   1.0  10      36\n",
       "2215   mars-18  Education   12         9         9        5   0.0  12      47\n",
       "2229   avr.-18  Education   23        17        11        4   6.0  18      79\n",
       "2243    mai-18  Education   23        18         8        6   4.0  10      69\n",
       "2257   juin-18  Education   12         9         8        3   3.0  16      51\n",
       "\n",
       "[162 rows x 9 columns]"
      ]
     },
     "execution_count": 44,
     "metadata": {},
     "output_type": "execute_result"
    }
   ],
   "source": [
    "df0 = df[df['Category'] == 'Education']\n",
    "df0.head(200)"
   ]
  },
  {
   "cell_type": "markdown",
   "metadata": {},
   "source": [
    "## Datavizualation"
   ]
  },
  {
   "cell_type": "code",
   "execution_count": 54,
   "metadata": {},
   "outputs": [
    {
     "data": {
      "text/plain": [
       "<matplotlib.collections.PathCollection at 0x234c8091d48>"
      ]
     },
     "execution_count": 54,
     "metadata": {},
     "output_type": "execute_result"
    },
    {
     "data": {
      "image/png": "[encoded data removed]",
      "text/plain": [
       "<Figure size 432x288 with 1 Axes>"
      ]
     },
     "metadata": {
      "needs_background": "light"
     },
     "output_type": "display_data"
    }
   ],
   "source": [
    "plt.xlabel(\"Category\")\n",
    "plt.ylabel('Times on the TV')\n",
    "plt.scatter(df0['Mounth'], df0['TF1'], color=\"green\", marker=\"+\")\n",
    "plt.scatter(df0['Mounth'], df0['France 2'], color=\"red\", marker=\"o\")\n",
    "plt.scatter(df0['Mounth'], df0['France 3'], color=\"yellow\", marker=\".\")\n",
    "plt.scatter(df0['Mounth'], df0['Arte'], color=\"blue\", marker=\"o\")\n",
    "plt.scatter(df0['Mounth'], df0['M6'], color=\"#C0C0C0\", marker=\"o\")\n",
    "# plt.scatter(df['Category'], df['France 2'], color=\"red\", marker=\"o\")"
   ]
  },
  {
   "cell_type": "markdown",
   "metadata": {},
   "source": [
    "# Same question if I’m mostly interested in Economy but I’d also like to know a bit about Sports."
   ]
  },
  {
   "cell_type": "code",
   "execution_count": null,
   "metadata": {},
   "outputs": [],
   "source": []
  }
 ],
 "metadata": {
  "kernelspec": {
   "display_name": "Python 3",
   "language": "python",
   "name": "python3"
  },
  "language_info": {
   "codemirror_mode": {
    "name": "ipython",
    "version": 3
   },
   "file_extension": ".py",
   "mimetype": "text/x-python",
   "name": "python",
   "nbconvert_exporter": "python",
   "pygments_lexer": "ipython3",
   "version": "3.7.4"
  }
 },
 "nbformat": 4,
 "nbformat_minor": 2
}
